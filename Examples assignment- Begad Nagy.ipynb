{
 "cells": [
  {
   "cell_type": "markdown",
   "id": "eaf9d13d",
   "metadata": {},
   "source": [
    "# Dunder or magic methods \n"
   ]
  },
  {
   "cell_type": "code",
   "execution_count": 1,
   "id": "39d9bc93",
   "metadata": {},
   "outputs": [
    {
     "data": {
      "text/plain": [
       "15"
      ]
     },
     "execution_count": 1,
     "metadata": {},
     "output_type": "execute_result"
    }
   ],
   "source": [
    "num=10\n",
    "\n",
    "num + 5\n",
    "\n"
   ]
  },
  {
   "cell_type": "code",
   "execution_count": 2,
   "id": "cf0cbe11",
   "metadata": {},
   "outputs": [
    {
     "data": {
      "text/plain": [
       "15"
      ]
     },
     "execution_count": 2,
     "metadata": {},
     "output_type": "execute_result"
    }
   ],
   "source": [
    "num.__add__(5)   #as you can see here python recognized the dunder method add by the double underscores\n"
   ]
  },
  {
   "cell_type": "code",
   "execution_count": null,
   "id": "a21b1b4a",
   "metadata": {},
   "outputs": [],
   "source": []
  },
  {
   "cell_type": "markdown",
   "id": "623ef510",
   "metadata": {},
   "source": [
    "# *args"
   ]
  },
  {
   "cell_type": "code",
   "execution_count": 3,
   "id": "a323bacd",
   "metadata": {},
   "outputs": [],
   "source": [
    "def adder(*num):\n",
    "    sum = 0\n",
    "    \n",
    "    for n in num:\n",
    "        sum = sum + n\n",
    "\n",
    "    print(\"Sum:\",sum)\n"
   ]
  },
  {
   "cell_type": "code",
   "execution_count": 4,
   "id": "a64219bc",
   "metadata": {},
   "outputs": [
    {
     "name": "stdout",
     "output_type": "stream",
     "text": [
      "Sum: 8\n",
      "Sum: 22\n",
      "Sum: 17\n"
     ]
    }
   ],
   "source": [
    "#As we see here i can pass various number of variables and still the function is used\n",
    "adder(3,5)\n",
    "\n",
    "adder(4,5,6,7)\n",
    "\n",
    "adder(1,2,3,5,6)"
   ]
  },
  {
   "cell_type": "code",
   "execution_count": null,
   "id": "dd0689ee",
   "metadata": {},
   "outputs": [],
   "source": []
  },
  {
   "cell_type": "markdown",
   "id": "6aa44abb",
   "metadata": {},
   "source": [
    "# **kwargs"
   ]
  },
  {
   "cell_type": "code",
   "execution_count": 8,
   "id": "ffdd3b2d",
   "metadata": {},
   "outputs": [],
   "source": [
    "#Example of **kwargs\n",
    "def intro(**data):\n",
    "    \n",
    "    print(\"\\nData type of parameter:\",type(data))\n",
    "\n",
    "    for key, value in data.items():\n",
    "        print(\"{} is {}\".format(key,value))\n"
   ]
  },
  {
   "cell_type": "code",
   "execution_count": 9,
   "id": "5919d867",
   "metadata": {},
   "outputs": [
    {
     "name": "stdout",
     "output_type": "stream",
     "text": [
      "\n",
      "Data type of parameter: <class 'dict'>\n",
      "Firstname is Begad\n",
      "Lastname is Mostafa\n",
      "Age is 22\n",
      "Phone is 111110909\n"
     ]
    }
   ],
   "source": [
    "#calling and passing parameters to the function\n",
    "intro(Firstname=\"Begad\", Lastname=\"Mostafa\", Age=22, Phone=111110909)"
   ]
  },
  {
   "cell_type": "code",
   "execution_count": null,
   "id": "1af02226",
   "metadata": {},
   "outputs": [],
   "source": [
    "\n",
    "\n"
   ]
  },
  {
   "cell_type": "markdown",
   "id": "766b40c7",
   "metadata": {},
   "source": [
    "# Encapsulation in python "
   ]
  },
  {
   "cell_type": "code",
   "execution_count": 12,
   "id": "038bbedf",
   "metadata": {},
   "outputs": [],
   "source": [
    "#Example of normal class that we cann access any attribute \n",
    "\n",
    "\n",
    "class Counter:\n",
    "    def __init__(self):\n",
    "        self.current = 0\n",
    "\n",
    "    def increment(self):\n",
    "        self.current += 1\n",
    "        \n",
    "    def value(self):\n",
    "        return self.current     \n",
    "        "
   ]
  },
  {
   "cell_type": "code",
   "execution_count": 13,
   "id": "d6aeaed2",
   "metadata": {},
   "outputs": [
    {
     "name": "stdout",
     "output_type": "stream",
     "text": [
      "1\n"
     ]
    }
   ],
   "source": [
    "counter = Counter()\n",
    "\n",
    "\n",
    "counter.increment()\n",
    "\n",
    "\n",
    "print(counter.value())"
   ]
  },
  {
   "cell_type": "code",
   "execution_count": 14,
   "id": "4d5c01a5",
   "metadata": {},
   "outputs": [
    {
     "name": "stdout",
     "output_type": "stream",
     "text": [
      "-999\n"
     ]
    }
   ],
   "source": [
    "#Now if we want to change the attribute from the outside of the Counter class, \n",
    "#you still can access the current attribute and change it to whatever you want\n",
    "\n",
    "counter = Counter()\n",
    "\n",
    "counter.current = -999\n",
    "\n",
    "print(counter.value())"
   ]
  },
  {
   "cell_type": "code",
   "execution_count": 15,
   "id": "079b220a",
   "metadata": {},
   "outputs": [],
   "source": [
    "#if we want to make attributes private we use double underscores\n",
    "#you cannot access the __attribute directly from the outside of a class\n",
    "#but you can access it like this  _class__attribute name:\n",
    "\n",
    "class Counter:           #redefine the class using double underscores\n",
    "    \n",
    "    def __init__(self):\n",
    "        self.__current = 0\n",
    "\n",
    "    def increment(self):\n",
    "        self.__current += 1\n",
    "\n",
    "    def value(self):\n",
    "        return self.__current\n",
    "\n"
   ]
  },
  {
   "cell_type": "code",
   "execution_count": 16,
   "id": "54633c35",
   "metadata": {},
   "outputs": [
    {
     "name": "stdout",
     "output_type": "stream",
     "text": [
      "0\n"
     ]
    }
   ],
   "source": [
    "counter = Counter()\n",
    "\n",
    "print(counter._Counter__current)   #now if we use this  _class__attribute name we can access it"
   ]
  },
  {
   "cell_type": "code",
   "execution_count": null,
   "id": "99dbea6a",
   "metadata": {},
   "outputs": [],
   "source": []
  }
 ],
 "metadata": {
  "kernelspec": {
   "display_name": "Python 3 (ipykernel)",
   "language": "python",
   "name": "python3"
  },
  "language_info": {
   "codemirror_mode": {
    "name": "ipython",
    "version": 3
   },
   "file_extension": ".py",
   "mimetype": "text/x-python",
   "name": "python",
   "nbconvert_exporter": "python",
   "pygments_lexer": "ipython3",
   "version": "3.9.12"
  }
 },
 "nbformat": 4,
 "nbformat_minor": 5
}
