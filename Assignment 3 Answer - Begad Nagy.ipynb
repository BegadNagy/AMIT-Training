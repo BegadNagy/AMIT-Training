{
 "cells": [
  {
   "cell_type": "markdown",
   "metadata": {},
   "source": [
    "# Assignment 3 Answer"
   ]
  },
  {
   "cell_type": "markdown",
   "metadata": {},
   "source": [
    "### Write a function to count the number 4 in a given list."
   ]
  },
  {
   "cell_type": "code",
   "execution_count": 3,
   "metadata": {},
   "outputs": [],
   "source": [
    "#creating a function that counts number 4 in a list  \n",
    "\n",
    "def count_in_list(list1):              \n",
    "    \n",
    "    count_num = list1.count(4)                             #using count method \n",
    "    \n",
    "    print('The count of number 4 is: ', count_num)    \n",
    "    "
   ]
  },
  {
   "cell_type": "code",
   "execution_count": 4,
   "metadata": {},
   "outputs": [
    {
     "name": "stdout",
     "output_type": "stream",
     "text": [
      "The count of number 4 is:  4\n"
     ]
    }
   ],
   "source": [
    "x_list=[1,2,4,7,8,9,32,1,4,7,6,96,69,4,4]\n",
    "\n",
    "count_in_list(x_list)                     #calling the function that will count and passing it the list  \n"
   ]
  },
  {
   "cell_type": "markdown",
   "metadata": {},
   "source": [
    "### write a  function to check whether a number is divisible by another number."
   ]
  },
  {
   "cell_type": "code",
   "execution_count": 8,
   "metadata": {},
   "outputs": [],
   "source": [
    "#creating a function to check if the number is divisible by another number\n",
    "\n",
    "def divisible(num1, num2):\n",
    "    if num1 % num2 ==0:                 #checking the numbers\n",
    "        return 'true'\n",
    "    else:\n",
    "        return 'false' "
   ]
  },
  {
   "cell_type": "code",
   "execution_count": 9,
   "metadata": {},
   "outputs": [
    {
     "name": "stdout",
     "output_type": "stream",
     "text": [
      "plz enter the first number6\n",
      "plz enter the second number 3\n"
     ]
    },
    {
     "data": {
      "text/plain": [
       "'true'"
      ]
     },
     "execution_count": 9,
     "metadata": {},
     "output_type": "execute_result"
    }
   ],
   "source": [
    "x= int(input('plz enter the first number'))           #getting the first number\n",
    "\n",
    "y= int(input('plz enter the second number '))          #getting the second number\n",
    "\n",
    "divisible(x,y)                     #calling the function "
   ]
  },
  {
   "cell_type": "markdown",
   "metadata": {},
   "source": [
    "### write a function to find the maximum and minimum numbers from a sequence of numbers."
   ]
  },
  {
   "cell_type": "code",
   "execution_count": 11,
   "metadata": {},
   "outputs": [],
   "source": [
    "#creating a function to check the max and min of a sequance of numbers\n",
    "\n",
    "def max_min(sequance): \n",
    "    \n",
    "    max1= sequance[0]              #the value that will compare to \n",
    "    min1= sequance[0]\n",
    "    \n",
    "    \n",
    "    for num in sequance:\n",
    "        \n",
    "        if num>max1:\n",
    "            max1= num\n",
    "            \n",
    "        elif num<min1:\n",
    "            min1=num\n",
    "    return max1,min1\n"
   ]
  },
  {
   "cell_type": "code",
   "execution_count": 13,
   "metadata": {},
   "outputs": [
    {
     "data": {
      "text/plain": [
       "(96, 1)"
      ]
     },
     "execution_count": 13,
     "metadata": {},
     "output_type": "execute_result"
    }
   ],
   "source": [
    "list1=[1,26,58,96,47,13,2,4,67,69,2,8,45]\n",
    "\n",
    "max_min(list1)               #calling the function and passing the sequance"
   ]
  },
  {
   "cell_type": "markdown",
   "metadata": {},
   "source": [
    "### Write a Python function that takes two lists and returns True if they have at least one common member."
   ]
  },
  {
   "cell_type": "code",
   "execution_count": 25,
   "metadata": {},
   "outputs": [],
   "source": [
    "#creating the function that  will take two lists and check if they have a common\n",
    "\n",
    "def common_list(list1,list2):\n",
    "    \n",
    "    for element1 in list1:\n",
    "        \n",
    "        for element2 in list2:\n",
    "            \n",
    "            if element1==element2:\n",
    "                return 'true'\n",
    "            else: \n",
    "                return 'false'\n",
    "           "
   ]
  },
  {
   "cell_type": "code",
   "execution_count": 27,
   "metadata": {},
   "outputs": [
    {
     "data": {
      "text/plain": [
       "'true'"
      ]
     },
     "execution_count": 27,
     "metadata": {},
     "output_type": "execute_result"
    }
   ],
   "source": [
    "rand_list=[1,23,25,24,16,8,9,89]\n",
    "\n",
    "rand_list2=[1,9,8,1,4,769,25]\n",
    "\n",
    "common_list(rand_list,rand_list2)"
   ]
  },
  {
   "cell_type": "markdown",
   "metadata": {},
   "source": [
    "### Write a Python function to calculate the factorial of a number (a non-negative integer). The function accepts the number from the user"
   ]
  },
  {
   "cell_type": "code",
   "execution_count": 30,
   "metadata": {},
   "outputs": [],
   "source": [
    "#creating a function that calculate the absolute value of a number\n",
    "\n",
    "def absolute_num(num1):\n",
    "    \n",
    "    if num1<0:                  #checking if the number that user entered is a negative or not\n",
    "        \n",
    "        return num1*-1                #turning the negative into a positive\n",
    "    else:\n",
    "        return num1\n",
    "    "
   ]
  },
  {
   "cell_type": "code",
   "execution_count": 32,
   "metadata": {},
   "outputs": [
    {
     "name": "stdout",
     "output_type": "stream",
     "text": [
      "plz enter the number6\n"
     ]
    },
    {
     "data": {
      "text/plain": [
       "6"
      ]
     },
     "execution_count": 32,
     "metadata": {},
     "output_type": "execute_result"
    }
   ],
   "source": [
    "x= int(input('plz enter the number'))\n",
    "\n",
    "absolute_num(x)                   #calling the function and passing the number"
   ]
  },
  {
   "cell_type": "markdown",
   "metadata": {},
   "source": [
    "### Write a Python function to check whether a number is in a given range.\n",
    "\n",
    "### The range is from 3 to 11\n"
   ]
  },
  {
   "cell_type": "code",
   "execution_count": 33,
   "metadata": {},
   "outputs": [],
   "source": [
    "#writing a function that checking if the number is in the range \n",
    "\n",
    "def check_in_range(num9):\n",
    "    \n",
    "    if num9 in range(3,12):\n",
    "        \n",
    "        print('the number {} is in range'.format(num9))\n",
    "        \n",
    "    else:\n",
    "        \n",
    "        print('the number {} is not in range'.format(num9))"
   ]
  },
  {
   "cell_type": "code",
   "execution_count": 36,
   "metadata": {},
   "outputs": [
    {
     "name": "stdout",
     "output_type": "stream",
     "text": [
      "the number 15 is not in range\n"
     ]
    }
   ],
   "source": [
    "x=15\n",
    "\n",
    "check_in_range(x)"
   ]
  },
  {
   "cell_type": "markdown",
   "metadata": {},
   "source": [
    "### Write a  program to create the multiplication table (from 1 to 10) of a number."
   ]
  },
  {
   "cell_type": "code",
   "execution_count": 37,
   "metadata": {},
   "outputs": [],
   "source": [
    "#creating a function that creats a multiplication table of a number\n",
    "\n",
    "def mul_table(num8):\n",
    "    \n",
    "    for i in range(1,11):\n",
    "        \n",
    "        print(num8, '*', i, '=', num8*i)\n",
    "        "
   ]
  },
  {
   "cell_type": "code",
   "execution_count": 38,
   "metadata": {},
   "outputs": [
    {
     "name": "stdout",
     "output_type": "stream",
     "text": [
      "plz enter number: 2\n",
      "2 * 1 = 2\n",
      "2 * 2 = 4\n",
      "2 * 3 = 6\n",
      "2 * 4 = 8\n",
      "2 * 5 = 10\n",
      "2 * 6 = 12\n",
      "2 * 7 = 14\n",
      "2 * 8 = 16\n",
      "2 * 9 = 18\n",
      "2 * 10 = 20\n"
     ]
    }
   ],
   "source": [
    "n = int(input(\"plz enter number: \"))\n",
    "\n",
    "mul_table(n)"
   ]
  },
  {
   "cell_type": "markdown",
   "metadata": {},
   "source": [
    "#### LESSER OF TWO EVENS: Write a function that returns the lesser of two given numbers *if* both numbers are even, but returns the greater if one or both numbers are odd\n",
    "    lesser_of_two_evens(2,4) --> 2\n",
    "    lesser_of_two_evens(2,5) --> 5"
   ]
  },
  {
   "cell_type": "code",
   "execution_count": 45,
   "metadata": {},
   "outputs": [],
   "source": [
    "#creating the function that gets the lesser of two evens and the greater of odd\n",
    "\n",
    "def lesser_even_greater_odd(num7,num6):\n",
    "    \n",
    "    if num7 % 2 ==0 and num6 % 2 ==0 :                     #checking if both are even\n",
    "        \n",
    "        if num7 > num6:                                   #checking which one is lesser than the other number\n",
    "            print('the lesser is : ',num6)\n",
    "        else:\n",
    "            print('the lesser is : ',num7)\n",
    "            \n",
    "    elif num7 % 2 != 0 or num6 % 2 != 0 :                     #checking if both are odd or one of them is odd\n",
    "        \n",
    "        if num7 > num6:                                        #checking which one is greater than the other number\n",
    "            \n",
    "            print('the greater is : ',num7)\n",
    "            \n",
    "        else:\n",
    "            \n",
    "            print('the greater is : ',num6)"
   ]
  },
  {
   "cell_type": "code",
   "execution_count": 48,
   "metadata": {},
   "outputs": [
    {
     "name": "stdout",
     "output_type": "stream",
     "text": [
      "plz enter first number: 7\n",
      "plz enter second number: 6\n",
      "the greater is :  7\n"
     ]
    }
   ],
   "source": [
    "x= int(input(\"plz enter first number: \"))\n",
    "\n",
    "y= int(input(\"plz enter second number: \"))\n",
    "\n",
    "lesser_even_greater_odd(x,y)"
   ]
  },
  {
   "cell_type": "code",
   "execution_count": null,
   "metadata": {},
   "outputs": [],
   "source": []
  }
 ],
 "metadata": {
  "kernelspec": {
   "display_name": "Python 3 (ipykernel)",
   "language": "python",
   "name": "python3"
  },
  "language_info": {
   "codemirror_mode": {
    "name": "ipython",
    "version": 3
   },
   "file_extension": ".py",
   "mimetype": "text/x-python",
   "name": "python",
   "nbconvert_exporter": "python",
   "pygments_lexer": "ipython3",
   "version": "3.9.12"
  }
 },
 "nbformat": 4,
 "nbformat_minor": 2
}
