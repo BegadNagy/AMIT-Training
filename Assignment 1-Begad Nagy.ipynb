{
 "cells": [
  {
   "cell_type": "markdown",
   "id": "25b4ae9b",
   "metadata": {},
   "source": [
    "simple calculator "
   ]
  },
  {
   "cell_type": "code",
   "execution_count": 5,
   "id": "f329fb47",
   "metadata": {},
   "outputs": [
    {
     "name": "stdout",
     "output_type": "stream",
     "text": [
      "Enter two values: 6 9\n",
      "the answer =  15\n"
     ]
    }
   ],
   "source": [
    "#this cell to get two numbers from a user and add them using split method by space \n",
    "x,y = map(int,input(\"Enter two values: \").split())\n",
    "c=x+y\n",
    "print('the answer = ',c)"
   ]
  },
  {
   "cell_type": "code",
   "execution_count": 6,
   "id": "f9b56944",
   "metadata": {},
   "outputs": [
    {
     "name": "stdout",
     "output_type": "stream",
     "text": [
      "Enter two values: 66,44\n",
      "the answer =  110\n"
     ]
    }
   ],
   "source": [
    "#this cell to get two numbers from a user and add them using split method by a comma \n",
    "a,b = map(int,input(\"Enter two values: \").split(\",\"))\n",
    "z=a+b\n",
    "print('the answer = ',z)"
   ]
  },
  {
   "cell_type": "code",
   "execution_count": null,
   "id": "71859df1",
   "metadata": {},
   "outputs": [],
   "source": []
  }
 ],
 "metadata": {
  "kernelspec": {
   "display_name": "Python 3 (ipykernel)",
   "language": "python",
   "name": "python3"
  },
  "language_info": {
   "codemirror_mode": {
    "name": "ipython",
    "version": 3
   },
   "file_extension": ".py",
   "mimetype": "text/x-python",
   "name": "python",
   "nbconvert_exporter": "python",
   "pygments_lexer": "ipython3",
   "version": "3.9.12"
  }
 },
 "nbformat": 4,
 "nbformat_minor": 5
}
